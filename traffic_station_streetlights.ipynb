{
  "nbformat": 4,
  "nbformat_minor": 0,
  "metadata": {
    "colab": {
      "name": "traffic_station_streetlights.ipynb",
      "version": "0.3.2",
      "provenance": [],
      "collapsed_sections": [],
      "include_colab_link": true
    },
    "kernelspec": {
      "name": "python3",
      "display_name": "Python 3"
    }
  },
  "cells": [
    {
      "cell_type": "markdown",
      "metadata": {
        "id": "view-in-github",
        "colab_type": "text"
      },
      "source": [
        "<a href=\"https://colab.research.google.com/github/ingcoder/2019-Team-201/blob/master/traffic_station_streetlights.ipynb\" target=\"_parent\"><img src=\"https://colab.research.google.com/assets/colab-badge.svg\" alt=\"Open In Colab\"/></a>"
      ]
    },
    {
      "metadata": {
        "id": "lbbiatt19IZl",
        "colab_type": "code",
        "outputId": "86f4c404-ff1c-4801-c078-362623dea910",
        "colab": {
          "base_uri": "https://localhost:8080/",
          "height": 55
        }
      },
      "cell_type": "code",
      "source": [
        "!pip install pyproj"
      ],
      "execution_count": 0,
      "outputs": [
        {
          "output_type": "stream",
          "text": [
            "Requirement already satisfied: pyproj in /usr/local/lib/python3.6/dist-packages (2.1.0)\n"
          ],
          "name": "stdout"
        }
      ]
    },
    {
      "metadata": {
        "id": "J9HHCoGb7e7h",
        "colab_type": "code",
        "colab": {}
      },
      "cell_type": "code",
      "source": [
        "import pandas as pd\n",
        "street_locations = pd.read_csv('StreetLight_LocationsClean.csv')"
      ],
      "execution_count": 0,
      "outputs": []
    },
    {
      "metadata": {
        "id": "OrjSGgMx8C9K",
        "colab_type": "code",
        "colab": {}
      },
      "cell_type": "code",
      "source": [
        "street_locations.head()\n",
        "light_long_list = street_locations['longitude'].values.tolist()\n",
        "light_lat_list = street_locations['latitude'].values.tolist()\n"
      ],
      "execution_count": 0,
      "outputs": []
    },
    {
      "metadata": {
        "id": "X9ZOlK2M6UxX",
        "colab_type": "code",
        "colab": {}
      },
      "cell_type": "code",
      "source": [
        "#Station_id 119030 \n",
        "#32.692872  117.121745\n",
        "\n",
        "#Station_id 119100\n",
        "#32.732428  117.111704\n",
        "\n",
        "#Station_id 119740\n",
        "#32.713208  117.133743"
      ],
      "execution_count": 0,
      "outputs": []
    },
    {
      "metadata": {
        "id": "oqrzaNo462ug",
        "colab_type": "code",
        "colab": {
          "base_uri": "https://localhost:8080/",
          "height": 54
        },
        "outputId": "f9458c9b-a572-42a6-a4ea-a21c24f63702"
      },
      "cell_type": "code",
      "source": [
        "import pyproj as proj\n",
        "\n",
        "# setup your projections\n",
        "crs_wgs = proj.Proj(init='epsg:4326') # assuming you're using WGS84 geographic\n",
        "crs_bng = proj.Proj(init='epsg:6923')  # use a locally appropriate projected CRS, in feet\n",
        "#crs_bng = proj.Proj(init='epsg:32633')\n",
        "\n",
        "# Station_id 119030  then cast your geographic coordinate pair to the projected system\n",
        "long, lat = proj.transform(crs_wgs, crs_bng, -117.121745, 32.692872)\n",
        "light_long, light_lat = proj.transform(crs_wgs, crs_bng, light_long_list , light_lat_list )\n",
        "lights_zipped_list = list(zip(light_long, light_lat))\n",
        "\n",
        "print(len(lights_zipped_list))\n",
        "\n"
      ],
      "execution_count": 55,
      "outputs": [
        {
          "output_type": "stream",
          "text": [
            "61229\n"
          ],
          "name": "stdout"
        },
        {
          "output_type": "execute_result",
          "data": {
            "text/plain": [
              "(-4478521.3031109795, -614271.3265651308)"
            ]
          },
          "metadata": {
            "tags": []
          },
          "execution_count": 55
        }
      ]
    },
    {
      "metadata": {
        "id": "_tOVY3o9C1xL",
        "colab_type": "code",
        "colab": {}
      },
      "cell_type": "code",
      "source": [
        "from shapely import geometry\n",
        "\n",
        "distance = 5280\n",
        "point_station_id_119030 = geometry.Point(long, lat)\n",
        "\n",
        "for idx in range(0, len(lights_zipped_list)): \n",
        "  point_lights = geometry.Point(lights_zipped_list[idx][0], lights_zipped_list[idx][1])\n",
        "  measured_distance = geometry.Point(point_station_id_119030).distance(geometry.Point(point_lights))\n",
        "  \n",
        "  if point_station_id_119030.distance(point_lights) < distance:\n",
        "    print(\"Streetlights within 1 mile / {} feet distance to Traffic Station ID\".format(distance))\n",
        "    print('Street light coordinates {} {}'.format(light_long_list[idx],light_lat_list[idx]))                                     \n",
        "    print('Measured distance {} feet'.format(measured_distance))"
      ],
      "execution_count": 0,
      "outputs": []
    },
    {
      "metadata": {
        "id": "zF-CKjYuYSt7",
        "colab_type": "code",
        "colab": {
          "base_uri": "https://localhost:8080/",
          "height": 172
        },
        "outputId": "78a1be74-5266-4b9f-ee46-b5ca4efc94b9"
      },
      "cell_type": "code",
      "source": [
        "traffic_lights_data = {'station_id': ['Station_id 119030', 'Station_id 119100', 'Station_id 119740'] , 'No. of lights':'', 'lights_long': '', 'lights_lat':'', 'lights_station_distance':'', 'traffic_at_station':'' }\n",
        "traffic_streetlights = pd.DataFrame(data = traffic_lights_data).set_index('station_id')\n",
        "traffic_streetlights"
      ],
      "execution_count": 87,
      "outputs": [
        {
          "output_type": "execute_result",
          "data": {
            "text/html": [
              "<div>\n",
              "<style scoped>\n",
              "    .dataframe tbody tr th:only-of-type {\n",
              "        vertical-align: middle;\n",
              "    }\n",
              "\n",
              "    .dataframe tbody tr th {\n",
              "        vertical-align: top;\n",
              "    }\n",
              "\n",
              "    .dataframe thead th {\n",
              "        text-align: right;\n",
              "    }\n",
              "</style>\n",
              "<table border=\"1\" class=\"dataframe\">\n",
              "  <thead>\n",
              "    <tr style=\"text-align: right;\">\n",
              "      <th></th>\n",
              "      <th>No. of lights</th>\n",
              "      <th>lights_lat</th>\n",
              "      <th>lights_long</th>\n",
              "      <th>lights_station_distance</th>\n",
              "      <th>traffic_at_station</th>\n",
              "    </tr>\n",
              "    <tr>\n",
              "      <th>station_id</th>\n",
              "      <th></th>\n",
              "      <th></th>\n",
              "      <th></th>\n",
              "      <th></th>\n",
              "      <th></th>\n",
              "    </tr>\n",
              "  </thead>\n",
              "  <tbody>\n",
              "    <tr>\n",
              "      <th>Station_id 119030</th>\n",
              "      <td></td>\n",
              "      <td></td>\n",
              "      <td></td>\n",
              "      <td></td>\n",
              "      <td></td>\n",
              "    </tr>\n",
              "    <tr>\n",
              "      <th>Station_id 119100</th>\n",
              "      <td></td>\n",
              "      <td></td>\n",
              "      <td></td>\n",
              "      <td></td>\n",
              "      <td></td>\n",
              "    </tr>\n",
              "    <tr>\n",
              "      <th>Station_id 119740</th>\n",
              "      <td></td>\n",
              "      <td></td>\n",
              "      <td></td>\n",
              "      <td></td>\n",
              "      <td></td>\n",
              "    </tr>\n",
              "  </tbody>\n",
              "</table>\n",
              "</div>"
            ],
            "text/plain": [
              "                  No. of lights lights_lat lights_long  \\\n",
              "station_id                                               \n",
              "Station_id 119030                                        \n",
              "Station_id 119100                                        \n",
              "Station_id 119740                                        \n",
              "\n",
              "                  lights_station_distance traffic_at_station  \n",
              "station_id                                                    \n",
              "Station_id 119030                                             \n",
              "Station_id 119100                                             \n",
              "Station_id 119740                                             "
            ]
          },
          "metadata": {
            "tags": []
          },
          "execution_count": 87
        }
      ]
    }
  ]
}